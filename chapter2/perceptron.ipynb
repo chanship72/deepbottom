{
 "cells": [
  {
   "cell_type": "code",
   "execution_count": 22,
   "metadata": {},
   "outputs": [],
   "source": [
    "import numpy as np\n",
    "import matplotlib as plt"
   ]
  },
  {
   "cell_type": "code",
   "execution_count": 23,
   "metadata": {},
   "outputs": [],
   "source": [
    "def AND(x1, x2):\n",
    "    x = np.array([x1, x2])\n",
    "    w = np.array([0.5, 0.5])\n",
    "    b = -.7\n",
    "    tmp = np.sum(w*x) + b\n",
    "    if tmp <= 0:\n",
    "        return 0\n",
    "    else:\n",
    "        return 1"
   ]
  },
  {
   "cell_type": "code",
   "execution_count": 24,
   "metadata": {},
   "outputs": [
    {
     "name": "stdout",
     "output_type": "stream",
     "text": [
      "AND(0,0): 0\n",
      "AND(0,1): 0\n",
      "AND(1,0): 0\n",
      "AND(1,1): 1\n"
     ]
    }
   ],
   "source": [
    "print(\"AND(0,0):\",AND(0,0))\n",
    "print(\"AND(0,1):\",AND(0,1))\n",
    "print(\"AND(1,0):\",AND(1,0))\n",
    "print(\"AND(1,1):\",AND(1,1))"
   ]
  },
  {
   "cell_type": "code",
   "execution_count": 25,
   "metadata": {},
   "outputs": [],
   "source": [
    "def NAND(x1, x2):\n",
    "    x = np.array([x1, x2])\n",
    "    w = np.array([-.5, -.5])\n",
    "    b = .7\n",
    "    tmp = np.sum(w*x) + b\n",
    "    if tmp <= 0:\n",
    "        return 0\n",
    "    else:\n",
    "        return 1"
   ]
  },
  {
   "cell_type": "code",
   "execution_count": 26,
   "metadata": {},
   "outputs": [
    {
     "name": "stdout",
     "output_type": "stream",
     "text": [
      "NAND(0,0): 1\n",
      "NAND(0,1): 1\n",
      "NAND(1,0): 1\n",
      "NAND(1,1): 0\n"
     ]
    }
   ],
   "source": [
    "print(\"NAND(0,0):\",NAND(0,0))\n",
    "print(\"NAND(0,1):\",NAND(0,1))\n",
    "print(\"NAND(1,0):\",NAND(1,0))\n",
    "print(\"NAND(1,1):\",NAND(1,1))"
   ]
  },
  {
   "cell_type": "code",
   "execution_count": 27,
   "metadata": {},
   "outputs": [],
   "source": [
    "def OR(x1, x2):\n",
    "    x = np.array([x1, x2])\n",
    "    w = np.array([.5, .5])\n",
    "    b = -.2\n",
    "    tmp = np.sum(w*x) + b\n",
    "    if tmp <= 0:\n",
    "        return 0\n",
    "    else:\n",
    "        return 1"
   ]
  },
  {
   "cell_type": "code",
   "execution_count": 28,
   "metadata": {},
   "outputs": [
    {
     "name": "stdout",
     "output_type": "stream",
     "text": [
      "OR(0,0): 0\n",
      "OR(0,1): 1\n",
      "OR(1,0): 1\n",
      "OR(1,1): 1\n"
     ]
    }
   ],
   "source": [
    "print(\"OR(0,0):\",OR(0,0))\n",
    "print(\"OR(0,1):\",OR(0,1))\n",
    "print(\"OR(1,0):\",OR(1,0))\n",
    "print(\"OR(1,1):\",OR(1,1))"
   ]
  },
  {
   "cell_type": "code",
   "execution_count": 29,
   "metadata": {},
   "outputs": [],
   "source": [
    "def XOR(x1, x2):\n",
    "    s1 = NAND(x1, x2)\n",
    "    s2 = OR(x1, x2)\n",
    "    y = AND(s1, s2)\n",
    "    return y"
   ]
  },
  {
   "cell_type": "code",
   "execution_count": 30,
   "metadata": {},
   "outputs": [
    {
     "name": "stdout",
     "output_type": "stream",
     "text": [
      "XOR(0,0): 0\n",
      "XOR(0,1): 1\n",
      "XOR(1,0): 1\n",
      "XOR(1,1): 0\n"
     ]
    }
   ],
   "source": [
    "print(\"XOR(0,0):\",XOR(0,0))\n",
    "print(\"XOR(0,1):\",XOR(0,1))\n",
    "print(\"XOR(1,0):\",XOR(1,0))\n",
    "print(\"XOR(1,1):\",XOR(1,1))"
   ]
  }
 ],
 "metadata": {
  "kernelspec": {
   "display_name": "venv",
   "language": "python",
   "name": "python3"
  },
  "language_info": {
   "codemirror_mode": {
    "name": "ipython",
    "version": 3
   },
   "file_extension": ".py",
   "mimetype": "text/x-python",
   "name": "python",
   "nbconvert_exporter": "python",
   "pygments_lexer": "ipython3",
   "version": "3.8.10"
  }
 },
 "nbformat": 4,
 "nbformat_minor": 2
}
