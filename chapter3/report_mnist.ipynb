{
 "cells": [
  {
   "cell_type": "code",
   "execution_count": 76,
   "metadata": {},
   "outputs": [],
   "source": [
    "import sys\n",
    "import os\n",
    "import pickle\n",
    "import numpy as np\n",
    "import time\n",
    "import matplotlib.pyplot as plt\n",
    "sys.path.append(os.pardir)  # 부모 디렉터리의 파일을 가져올 수 있도록 설정\n",
    "from dataset.mnist import load_mnist\n",
    "from common.functions import sigmoid, softmax\n"
   ]
  },
  {
   "cell_type": "code",
   "execution_count": 64,
   "metadata": {},
   "outputs": [
    {
     "name": "stdout",
     "output_type": "stream",
     "text": [
      "(60000, 784)\n",
      "(60000,)\n",
      "(10000, 784)\n",
      "(10000,)\n"
     ]
    }
   ],
   "source": [
    "(x_train, t_train), (x_test, t_test) = load_mnist(flatten=True,\n",
    "                                                  normalize=False)\n",
    "\n",
    "# 각 데이터의 형상 출력\n",
    "print(x_train.shape)  # (60000, 784)\n",
    "print(t_train.shape)  # (60000,)\n",
    "print(x_test.shape)  # (10000, 784)\n",
    "print(t_test.shape)  # (10000,)"
   ]
  },
  {
   "cell_type": "code",
   "execution_count": null,
   "metadata": {},
   "outputs": [],
   "source": [
    "def get_data(pNormalize=False):\n",
    "    (x_train, t_train), (x_test, t_test) = \\\n",
    "        load_mnist(flatten=True, normalize=pNormalize, one_hot_label=False)\n",
    "    return x_test, t_test\n",
    "\n",
    "\n",
    "def init_network():\n",
    "    with open(\"sample_weight.pkl\", 'rb') as f:\n",
    "        # 학습된 가중치 매개변수가 담긴 파일\n",
    "        # 학습 없이 바로 추론을 수행\n",
    "        network = pickle.load(f)\n",
    "\n",
    "    return network\n",
    "\n",
    "\n",
    "def predict(network, x):\n",
    "    W1, W2, W3 = network['W1'], network['W2'], network['W3']\n",
    "    b1, b2, b3 = network['b1'], network['b2'], network['b3']\n",
    "    a1 = np.dot(x, W1) + b1\n",
    "    z1 = sigmoid(a1)\n",
    "    a2 = np.dot(z1, W2) + b2\n",
    "    z2 = sigmoid(a2)\n",
    "    a3 = np.dot(z2, W3) + b3\n",
    "    y = softmax(a3)\n",
    "\n",
    "    return y\n",
    "\n",
    "def get_accuracy(network, batch_size):\n",
    "    accuracy_cnt = 0\n",
    "    error_indices = []\n",
    "    \n",
    "    start_time = time.time()\n",
    "    for i in range(0, len(x), batch_size):\n",
    "        x_batch = x[i:i+batch_size]\n",
    "        y_batch = predict(network, x_batch)\n",
    "        p = np.argmax(y_batch, axis=1)\n",
    "        accuracy_cnt += np.sum(p == t[i:i+batch_size])\n",
    "        errors = np.where(p != t[i:i+batch_size])[0]  # 현재 배치 내의 에러 인덱스\n",
    "        error_indices.extend(errors + i)\n",
    "        \n",
    "    end_time = time.time()\n",
    "    print(\"Accuracy:\" + str(float(accuracy_cnt) / len(x)))\n",
    "    print(f\"Execution Time: {end_time - start_time:.4f} seconds\")\n",
    "    \n",
    "    return end_time - start_time"
   ]
  },
  {
   "cell_type": "code",
   "execution_count": 70,
   "metadata": {},
   "outputs": [
    {
     "name": "stdout",
     "output_type": "stream",
     "text": [
      "Accuracy:0.9207\n",
      "Execution Time: 0.0755 seconds\n"
     ]
    },
    {
     "name": "stderr",
     "output_type": "stream",
     "text": [
      "/Users/chanshinpark/workspace/deepbottom/chapter3/../common/functions.py:14: RuntimeWarning: overflow encountered in exp\n",
      "  return 1 / (1 + np.exp(-x))\n"
     ]
    },
    {
     "data": {
      "text/plain": [
       "0.0755009651184082"
      ]
     },
     "execution_count": 70,
     "metadata": {},
     "output_type": "execute_result"
    }
   ],
   "source": [
    "x, t = get_data(pNormalize=False)\n",
    "network = init_network()\n",
    "batch_size = 100\n",
    "\n",
    "get_accuracy(network, batch_size)"
   ]
  },
  {
   "cell_type": "code",
   "execution_count": 71,
   "metadata": {},
   "outputs": [
    {
     "name": "stdout",
     "output_type": "stream",
     "text": [
      "Accuracy:0.9352\n",
      "Execution Time: 0.1947 seconds\n"
     ]
    },
    {
     "data": {
      "text/plain": [
       "0.19472789764404297"
      ]
     },
     "execution_count": 71,
     "metadata": {},
     "output_type": "execute_result"
    }
   ],
   "source": [
    "x, t = get_data(pNormalize=True)\n",
    "\n",
    "get_accuracy(network, batch_size)"
   ]
  },
  {
   "cell_type": "code",
   "execution_count": 81,
   "metadata": {},
   "outputs": [
    {
     "name": "stdout",
     "output_type": "stream",
     "text": [
      "Accuracy:0.9352\n",
      "Execution Time: 0.2426 seconds\n",
      "Accuracy:0.9352\n",
      "Execution Time: 0.0635 seconds\n",
      "Accuracy:0.9352\n",
      "Execution Time: 0.0519 seconds\n",
      "Accuracy:0.9352\n",
      "Execution Time: 0.0487 seconds\n",
      "Accuracy:0.9352\n",
      "Execution Time: 0.0441 seconds\n",
      "Accuracy:0.9352\n",
      "Execution Time: 0.0432 seconds\n",
      "Accuracy:0.9352\n",
      "Execution Time: 0.0396 seconds\n",
      "Accuracy:0.9352\n",
      "Execution Time: 0.0431 seconds\n"
     ]
    }
   ],
   "source": [
    "x, t = get_data(pNormalize=True)\n",
    "\n",
    "execution_time = []\n",
    "x_batch_size = (10, 100, 200, 600, 1000, 2000, 5000, 10000)\n",
    "for batch_size in x_batch_size:\n",
    "    execution_time.append(get_accuracy(network, batch_size))"
   ]
  },
  {
   "cell_type": "code",
   "execution_count": 83,
   "metadata": {},
   "outputs": [
    {
     "data": {
      "image/png": "[encoded data removed]",
      "text/plain": [
       "<Figure size 640x480 with 1 Axes>"
      ]
     },
     "metadata": {},
     "output_type": "display_data"
    }
   ],
   "source": [
    "plt.plot(x_batch_size, execution_time, marker='o', linestyle='-', color='blue')\n",
    "plt.title(\"Execution Time vs Batch Size\")\n",
    "plt.xlabel(\"Batch Size\")\n",
    "plt.ylabel(\"Execution Time (seconds)\")\n",
    "plt.show()"
   ]
  },
  {
   "cell_type": "code",
   "execution_count": null,
   "metadata": {},
   "outputs": [],
   "source": []
  }
 ],
 "metadata": {
  "kernelspec": {
   "display_name": "venv",
   "language": "python",
   "name": "python3"
  },
  "language_info": {
   "codemirror_mode": {
    "name": "ipython",
    "version": 3
   },
   "file_extension": ".py",
   "mimetype": "text/x-python",
   "name": "python",
   "nbconvert_exporter": "python",
   "pygments_lexer": "ipython3",
   "version": "3.8.10"
  }
 },
 "nbformat": 4,
 "nbformat_minor": 2
}
