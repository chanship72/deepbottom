{
 "cells": [
  {
   "cell_type": "code",
   "execution_count": 147,
   "metadata": {},
   "outputs": [],
   "source": [
    "import numpy as np\n",
    "import sys\n",
    "import os\n",
    "sys.path.append(os.pardir)\n",
    "from dataset.mnist import load_mnist\n",
    "from common.functions import *\n",
    "from common.gradient import numerical_gradient\n",
    "\n",
    "import matplotlib.pyplot as plt"
   ]
  },
  {
   "cell_type": "code",
   "execution_count": null,
   "metadata": {},
   "outputs": [],
   "source": [
    "class TwoLayerNet:\n",
    "    \n",
    "    def __init__(self, input_size, hidden_size, output_size, weight_init_std=0.01):\n",
    "        # 가중치 초기화\n",
    "        self.params = {}\n",
    "        self.params['W1'] = weight_init_std * np.random.randn(input_size, hidden_size)\n",
    "        self.params['b1'] = np.zeros(hidden_size)\n",
    "        self.params['W2'] = weight_init_std * np.random.randn(hidden_size, output_size)\n",
    "        self.params['b2'] = np.zeros(output_size)\n",
    "\n",
    "    def predict(self, x):\n",
    "        W1, W2 = self.params['W1'], self.params['W2']\n",
    "        b1, b2 = self.params['b1'], self.params['b2']\n",
    "    \n",
    "        a1 = np.dot(x, W1) + b1\n",
    "        z1 = sigmoid(a1)\n",
    "        a2 = np.dot(z1, W2) + b2\n",
    "        y = softmax(a2)\n",
    "        \n",
    "        return y\n",
    "        \n",
    "    # x : 입력 데이터, t : 정답 레이블\n",
    "    def loss(self, x, t):\n",
    "        y = self.predict(x)\n",
    "\n",
    "        return cross_entropy_error(y, t)\n",
    "\n",
    "    def accuracy(self, x, t):\n",
    "        y = self.predict(x)\n",
    "        y = np.argmax(y, axis=1)\n",
    "        t = np.argmax(t, axis=1)\n",
    "\n",
    "        accuracy = np.sum(y == t) / float(x.shape[0])\n",
    "        return accuracy\n",
    "\n",
    "    # x : 입력 데이터, t : 정답 레이블\n",
    "    def numerical_gradient(self, x, t):\n",
    "        loss_W = lambda W: self.loss(x, t)\n",
    "\n",
    "        grads = {}\n",
    "        grads['W1'] = numerical_gradient(loss_W, self.params['W1'])\n",
    "        grads['b1'] = numerical_gradient(loss_W, self.params['b1'])\n",
    "        grads['W2'] = numerical_gradient(loss_W, self.params['W2'])\n",
    "        grads['b2'] = numerical_gradient(loss_W, self.params['b2'])\n",
    "\n",
    "        return grads\n",
    "\n",
    "    def gradient(self, x, t):\n",
    "        W1, W2 = self.params['W1'], self.params['W2']\n",
    "        b1, b2 = self.params['b1'], self.params['b2']\n",
    "        grads = {}\n",
    "\n",
    "        batch_num = x.shape[0]\n",
    "\n",
    "        # forward\n",
    "        a1 = np.dot(x, W1) + b1\n",
    "        z1 = sigmoid(a1)\n",
    "        a2 = np.dot(z1, W2) + b2\n",
    "        y = softmax(a2)\n",
    "\n",
    "        # backward\n",
    "        dy = (y - t) / batch_num\n",
    "        grads['W2'] = np.dot(z1.T, dy)\n",
    "        grads['b2'] = np.sum(dy, axis=0)\n",
    "\n",
    "        da1 = np.dot(dy, W2.T)\n",
    "        dz1 = sigmoid_grad(a1) * da1\n",
    "        grads['W1'] = np.dot(x.T, dz1)\n",
    "        grads['b1'] = np.sum(dz1, axis=0)\n",
    "\n",
    "        return grads"
   ]
  },
  {
   "cell_type": "code",
   "execution_count": 149,
   "metadata": {},
   "outputs": [],
   "source": [
    "(x_train, t_train), (x_test, t_test) = \\\n",
    "    load_mnist(normalize=True, one_hot_label=True)"
   ]
  },
  {
   "cell_type": "code",
   "execution_count": 150,
   "metadata": {},
   "outputs": [],
   "source": [
    "iters_num = 10000  # 반복횟수\n",
    "train_size = x_train.shape[0]\n",
    "batch_size = 600  # 미니배치 크기\n",
    "learning_rate = 0.1\n",
    "network = TwoLayerNet(input_size=784, hidden_size=50, output_size=10)"
   ]
  },
  {
   "cell_type": "code",
   "execution_count": 151,
   "metadata": {},
   "outputs": [
    {
     "data": {
      "text/plain": [
       "100.0"
      ]
     },
     "execution_count": 151,
     "metadata": {},
     "output_type": "execute_result"
    }
   ],
   "source": [
    "train_loss_list = []\n",
    "train_acc_list = []\n",
    "test_acc_list = []\n",
    "ilist = []\n",
    "\n",
    "# 1에폭당 반복 수\n",
    "iter_per_epoch = max(train_size / batch_size, 1)\n",
    "iter_per_epoch"
   ]
  },
  {
   "cell_type": "code",
   "execution_count": 152,
   "metadata": {},
   "outputs": [
    {
     "name": "stdout",
     "output_type": "stream",
     "text": [
      "train acc, test acc | 0.09166666666666666, 0.1009\n",
      "train acc, test acc | 0.13833333333333334, 0.1456\n",
      "train acc, test acc | 0.355, 0.3738\n",
      "train acc, test acc | 0.4683333333333333, 0.513\n",
      "train acc, test acc | 0.6583333333333333, 0.6573\n",
      "train acc, test acc | 0.7633333333333333, 0.7472\n",
      "train acc, test acc | 0.7733333333333333, 0.7871\n",
      "train acc, test acc | 0.795, 0.8178\n",
      "train acc, test acc | 0.8466666666666667, 0.836\n",
      "train acc, test acc | 0.8166666666666667, 0.8526\n",
      "train acc, test acc | 0.8466666666666667, 0.8637\n",
      "train acc, test acc | 0.8566666666666667, 0.8721\n",
      "train acc, test acc | 0.8716666666666667, 0.8768\n",
      "train acc, test acc | 0.8783333333333333, 0.8842\n",
      "train acc, test acc | 0.8916666666666667, 0.8882\n",
      "train acc, test acc | 0.915, 0.8923\n",
      "train acc, test acc | 0.905, 0.8952\n",
      "train acc, test acc | 0.8916666666666667, 0.8983\n",
      "train acc, test acc | 0.8783333333333333, 0.9001\n",
      "train acc, test acc | 0.915, 0.9024\n",
      "train acc, test acc | 0.91, 0.905\n",
      "train acc, test acc | 0.8866666666666667, 0.9063\n",
      "train acc, test acc | 0.8816666666666667, 0.9079\n",
      "train acc, test acc | 0.9116666666666666, 0.9103\n",
      "train acc, test acc | 0.9116666666666666, 0.9114\n",
      "train acc, test acc | 0.91, 0.9119\n",
      "train acc, test acc | 0.9166666666666666, 0.9138\n",
      "train acc, test acc | 0.895, 0.9149\n",
      "train acc, test acc | 0.91, 0.9159\n",
      "train acc, test acc | 0.91, 0.9169\n",
      "train acc, test acc | 0.9183333333333333, 0.917\n",
      "train acc, test acc | 0.9083333333333333, 0.919\n",
      "train acc, test acc | 0.9116666666666666, 0.9185\n",
      "train acc, test acc | 0.915, 0.9198\n",
      "train acc, test acc | 0.8916666666666667, 0.9201\n",
      "train acc, test acc | 0.9116666666666666, 0.9218\n",
      "train acc, test acc | 0.9233333333333333, 0.9229\n",
      "train acc, test acc | 0.9166666666666666, 0.9235\n",
      "train acc, test acc | 0.9316666666666666, 0.9246\n",
      "train acc, test acc | 0.9233333333333333, 0.9248\n",
      "train acc, test acc | 0.9316666666666666, 0.9262\n",
      "train acc, test acc | 0.9416666666666667, 0.9259\n",
      "train acc, test acc | 0.9516666666666667, 0.9274\n",
      "train acc, test acc | 0.905, 0.9282\n",
      "train acc, test acc | 0.9433333333333334, 0.9287\n",
      "train acc, test acc | 0.9266666666666666, 0.9289\n",
      "train acc, test acc | 0.9466666666666667, 0.929\n",
      "train acc, test acc | 0.945, 0.9298\n",
      "train acc, test acc | 0.94, 0.9316\n",
      "train acc, test acc | 0.94, 0.9319\n",
      "train acc, test acc | 0.91, 0.9324\n",
      "train acc, test acc | 0.9233333333333333, 0.9322\n",
      "train acc, test acc | 0.9366666666666666, 0.9331\n",
      "train acc, test acc | 0.9316666666666666, 0.9337\n",
      "train acc, test acc | 0.925, 0.9322\n",
      "train acc, test acc | 0.9233333333333333, 0.9341\n",
      "train acc, test acc | 0.95, 0.9351\n",
      "train acc, test acc | 0.9433333333333334, 0.9344\n",
      "train acc, test acc | 0.9566666666666667, 0.9351\n",
      "train acc, test acc | 0.9333333333333333, 0.9361\n",
      "train acc, test acc | 0.9266666666666666, 0.9364\n",
      "train acc, test acc | 0.9433333333333334, 0.9367\n",
      "train acc, test acc | 0.935, 0.9363\n",
      "train acc, test acc | 0.9416666666666667, 0.9366\n",
      "train acc, test acc | 0.955, 0.9377\n",
      "train acc, test acc | 0.9433333333333334, 0.9378\n",
      "train acc, test acc | 0.9533333333333334, 0.9379\n",
      "train acc, test acc | 0.9233333333333333, 0.9386\n",
      "train acc, test acc | 0.9266666666666666, 0.939\n",
      "train acc, test acc | 0.955, 0.9395\n",
      "train acc, test acc | 0.9266666666666666, 0.9401\n",
      "train acc, test acc | 0.9466666666666667, 0.94\n",
      "train acc, test acc | 0.945, 0.9412\n",
      "train acc, test acc | 0.9283333333333333, 0.9415\n",
      "train acc, test acc | 0.9516666666666667, 0.9417\n",
      "train acc, test acc | 0.9383333333333334, 0.9421\n",
      "train acc, test acc | 0.9466666666666667, 0.9419\n",
      "train acc, test acc | 0.9466666666666667, 0.9425\n",
      "train acc, test acc | 0.9516666666666667, 0.9429\n",
      "train acc, test acc | 0.9433333333333334, 0.9432\n",
      "train acc, test acc | 0.9266666666666666, 0.9433\n",
      "train acc, test acc | 0.935, 0.9437\n",
      "train acc, test acc | 0.93, 0.9444\n",
      "train acc, test acc | 0.93, 0.9442\n",
      "train acc, test acc | 0.9566666666666667, 0.9442\n",
      "train acc, test acc | 0.94, 0.9448\n",
      "train acc, test acc | 0.955, 0.9452\n",
      "train acc, test acc | 0.92, 0.9458\n",
      "train acc, test acc | 0.9433333333333334, 0.9457\n",
      "train acc, test acc | 0.9466666666666667, 0.946\n",
      "train acc, test acc | 0.93, 0.9463\n",
      "train acc, test acc | 0.9366666666666666, 0.946\n",
      "train acc, test acc | 0.9516666666666667, 0.9461\n",
      "train acc, test acc | 0.9483333333333334, 0.9467\n",
      "train acc, test acc | 0.94, 0.9466\n",
      "train acc, test acc | 0.9516666666666667, 0.9472\n",
      "train acc, test acc | 0.9383333333333334, 0.9472\n",
      "train acc, test acc | 0.935, 0.9478\n",
      "train acc, test acc | 0.945, 0.9477\n",
      "train acc, test acc | 0.9466666666666667, 0.948\n"
     ]
    }
   ],
   "source": [
    "for i in range(iters_num):\n",
    "    # 미니배치 획득\n",
    "    batch_mask = np.random.choice(train_size, batch_size)\n",
    "    x_batch = x_train[batch_mask]\n",
    "    t_batch = t_train[batch_mask]\n",
    "    # 기울기 계산\n",
    "    #grad = network.numerical_gradient(x_batch, t_batch)\n",
    "    grad = network.gradient(x_batch, t_batch)  # 다음 장에서 구현할 더 빠른 방법!\n",
    "\n",
    "    # 매개변수 갱신\n",
    "    for key in ('W1', 'b1', 'W2', 'b2'):\n",
    "        network.params[key] -= learning_rate * grad[key]\n",
    "\n",
    "    # 학습 경과 기록\n",
    "    loss = network.loss(x_batch, t_batch)\n",
    "    train_loss_list.append(loss)\n",
    "\n",
    "    # 1에폭 당 정확도 계산\n",
    "    if i % iter_per_epoch == 0:\n",
    "        train_acc = network.accuracy(x_batch, t_batch)\n",
    "        test_acc = network.accuracy(x_test, t_test)\n",
    "        train_acc_list.append(train_acc)\n",
    "        test_acc_list.append(test_acc)\n",
    "        print(\"train acc, test acc | \" + str(train_acc) + \", \" + str(test_acc))\n"
   ]
  },
  {
   "cell_type": "code",
   "execution_count": 154,
   "metadata": {},
   "outputs": [
    {
     "data": {
      "image/png": "[encoded data removed]",
      "text/plain": [
       "<Figure size 640x480 with 1 Axes>"
      ]
     },
     "metadata": {},
     "output_type": "display_data"
    }
   ],
   "source": [
    "plt.plot(list(range(0,10000,100)), train_acc_list, marker='o', linestyle='-', color='blue', label='train')\n",
    "plt.plot(list(range(0,10000,100)), test_acc_list, marker='+', linestyle='-', color='red', label='test')\n",
    "plt.legend(loc='lower right')\n",
    "plt.xlabel(\"epochs\")\n",
    "plt.ylabel(\"Accuracy\")\n",
    "plt.show()"
   ]
  },
  {
   "cell_type": "code",
   "execution_count": null,
   "metadata": {},
   "outputs": [
    {
     "data": {
      "image/png": "[encoded data removed]",
      "text/plain": [
       "<Figure size 640x480 with 1 Axes>"
      ]
     },
     "metadata": {},
     "output_type": "display_data"
    }
   ],
   "source": [
    "\n",
    "plt.plot(list(range(iters_num)), train_loss_list, linestyle='-', color='blue', label='loss')\n",
    "plt.legend(loc='upper right')\n",
    "plt.xlabel(\"iterations\")\n",
    "plt.ylabel(\"loss\")\n",
    "plt.show()"
   ]
  },
  {
   "cell_type": "code",
   "execution_count": null,
   "metadata": {},
   "outputs": [],
   "source": []
  }
 ],
 "metadata": {
  "kernelspec": {
   "display_name": "venv",
   "language": "python",
   "name": "python3"
  },
  "language_info": {
   "codemirror_mode": {
    "name": "ipython",
    "version": 3
   },
   "file_extension": ".py",
   "mimetype": "text/x-python",
   "name": "python",
   "nbconvert_exporter": "python",
   "pygments_lexer": "ipython3",
   "version": "3.8.10"
  }
 },
 "nbformat": 4,
 "nbformat_minor": 2
}
